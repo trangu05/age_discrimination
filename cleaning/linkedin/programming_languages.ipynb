{
 "cells": [
  {
   "cell_type": "code",
   "execution_count": 44,
   "id": "46382ce5",
   "metadata": {},
   "outputs": [
    {
     "name": "stdout",
     "output_type": "stream",
     "text": [
      "                 Language Name Created Year\n",
      "0     A Manufacturing Language         None\n",
      "1                           A+         1988\n",
      "2                          A++         None\n",
      "3                   A-0 System         1952\n",
      "4                         ABAP         1983\n",
      "...                        ...          ...\n",
      "1622                     3DMLW         None\n",
      "1623                      4DOS         1988\n",
      "1624             4th Dimension         1984\n",
      "1625                         Ć         None\n",
      "1626                   λProlog         None\n",
      "\n",
      "[1627 rows x 2 columns]\n"
     ]
    }
   ],
   "source": [
    "#Scrape all the names of the programming languages as well as their create date \n",
    "\n",
    "from bs4 import BeautifulSoup\n",
    "import requests\n",
    "import pandas as pd\n",
    "\n",
    "# Base URL of the main page",
    "base_url = \"https://programminglanguages.info\"\n",
    "\n",
    "\n",
    "# URL of the main page with the language list\n",
    "url = base_url + \"/languages\"\n",
    "response = requests.get(url)\n",
    "soup = BeautifulSoup(response.text, 'html.parser')\n",
    "\n",
    "# List to store language names and their creation years\n",
    "data = []\n",
    "\n",
    "# Loop through each language link on the main page\n",
    "for item in soup.select(\"ul.column-list li a\"):\n",
    "    language_name = item.text\n",
    "    language_url = base_url + item['href']\n",
    "    \n",
    "    # Visit the language-specific page to extract the created year\n",
    "    language_response = requests.get(language_url)\n",
    "    language_soup = BeautifulSoup(language_response.text, 'html.parser')\n",
    "    \n",
    "    # Extract the created year using the specific CSS selector\n",
    "    year_element = language_soup.select_one(\"strong:contains('Created Year:') + a[href^='/created/']\")\n",
    "    \n",
    "    # If the year element is found, get its text (the year)\n",
    "    if year_element:\n",
    "        created_year = year_element.text.strip()\n",
    "    else:\n",
    "        created_year = None  # If no year is found, set it to None\n",
    "    \n",
    "    # Append the data to the list\n",
    "    data.append({\n",
    "        'Language Name': language_name,\n",
    "        'Created Year': created_year\n",
    "    })\n",
    "\n",
    "# Convert the data to a DataFrame and display/save it\n",
    "df = pd.DataFrame(data)\n",
    "print(df)\n",
    "\n",
    "df.to_csv('/Users/tranguyen/Library/CloudStorage/OneDrive-YaleUniversity(2)/online job ads_china/age_discrimination/output/data/linkedin/programming_languages.csv', index=False)\n"
   ]
  },
  {
   "cell_type": "code",
   "execution_count": 45,
   "id": "c0b30b97",
   "metadata": {},
   "outputs": [],
   "source": []
  }
 ],
 "metadata": {
  "kernelspec": {
   "display_name": "Python 3 (ipykernel)",
   "language": "python",
   "name": "python3"
  },
  "language_info": {
   "codemirror_mode": {
    "name": "ipython",
    "version": 3
   },
   "file_extension": ".py",
   "mimetype": "text/x-python",
   "name": "python",
   "nbconvert_exporter": "python",
   "pygments_lexer": "ipython3",
   "version": "3.9.12"
  }
 },
 "nbformat": 4,
 "nbformat_minor": 5
}
